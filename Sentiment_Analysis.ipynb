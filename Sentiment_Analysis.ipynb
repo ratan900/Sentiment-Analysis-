{
  "nbformat": 4,
  "nbformat_minor": 0,
  "metadata": {
    "colab": {
      "name": "Sentiment_Analysis.ipynb",
      "provenance": []
    },
    "kernelspec": {
      "display_name": "Python 3",
      "language": "python",
      "name": "python3"
    },
    "language_info": {
      "codemirror_mode": {
        "name": "ipython",
        "version": 3
      },
      "file_extension": ".py",
      "mimetype": "text/x-python",
      "name": "python",
      "nbconvert_exporter": "python",
      "pygments_lexer": "ipython3",
      "version": "3.8.5"
    }
  },
  "cells": [
    {
      "cell_type": "markdown",
      "metadata": {
        "id": "EyR658BXcZyH"
      },
      "source": [
        "By  Ratan Kumar\n",
        "\n",
        "\n"
      ]
    },
    {
      "cell_type": "code",
      "metadata": {
        "colab": {
          "base_uri": "https://localhost:8080/",
          "height": 204
        },
        "id": "zuQrVYAYQn8W",
        "outputId": "6f58a173-dc78-4988-b86d-72e958075a7f"
      },
      "source": [
        "import re\n",
        "import pandas as pd\n",
        "import numpy as np\n",
        "import seaborn as sns\n",
        "df=pd.read_csv('train.csv')\n",
        "df.head()"
      ],
      "execution_count": null,
      "outputs": [
        {
          "output_type": "execute_result",
          "data": {
            "text/html": [
              "<div>\n",
              "<style scoped>\n",
              "    .dataframe tbody tr th:only-of-type {\n",
              "        vertical-align: middle;\n",
              "    }\n",
              "\n",
              "    .dataframe tbody tr th {\n",
              "        vertical-align: top;\n",
              "    }\n",
              "\n",
              "    .dataframe thead th {\n",
              "        text-align: right;\n",
              "    }\n",
              "</style>\n",
              "<table border=\"1\" class=\"dataframe\">\n",
              "  <thead>\n",
              "    <tr style=\"text-align: right;\">\n",
              "      <th></th>\n",
              "      <th>Id</th>\n",
              "      <th>Category</th>\n",
              "      <th>Tweet</th>\n",
              "    </tr>\n",
              "  </thead>\n",
              "  <tbody>\n",
              "    <tr>\n",
              "      <th>0</th>\n",
              "      <td>6.357700e+17</td>\n",
              "      <td>negative</td>\n",
              "      <td>Not Available</td>\n",
              "    </tr>\n",
              "    <tr>\n",
              "      <th>1</th>\n",
              "      <td>6.359300e+17</td>\n",
              "      <td>neutral</td>\n",
              "      <td>IOS 9 App Transport Security. Mm need to check...</td>\n",
              "    </tr>\n",
              "    <tr>\n",
              "      <th>2</th>\n",
              "      <td>6.359500e+17</td>\n",
              "      <td>neutral</td>\n",
              "      <td>Mar if you have an iOS device, you should down...</td>\n",
              "    </tr>\n",
              "    <tr>\n",
              "      <th>3</th>\n",
              "      <td>6.360310e+17</td>\n",
              "      <td>negative</td>\n",
              "      <td>@jimmie_vanagon my phone does not run on lates...</td>\n",
              "    </tr>\n",
              "    <tr>\n",
              "      <th>4</th>\n",
              "      <td>6.361010e+17</td>\n",
              "      <td>positive</td>\n",
              "      <td>Not sure how to start your publication on iOS?...</td>\n",
              "    </tr>\n",
              "  </tbody>\n",
              "</table>\n",
              "</div>"
            ],
            "text/plain": [
              "             Id  Category                                              Tweet\n",
              "0  6.357700e+17  negative                                      Not Available\n",
              "1  6.359300e+17   neutral  IOS 9 App Transport Security. Mm need to check...\n",
              "2  6.359500e+17   neutral  Mar if you have an iOS device, you should down...\n",
              "3  6.360310e+17  negative  @jimmie_vanagon my phone does not run on lates...\n",
              "4  6.361010e+17  positive  Not sure how to start your publication on iOS?..."
            ]
          },
          "metadata": {
            "tags": []
          },
          "execution_count": 1
        }
      ]
    },
    {
      "cell_type": "code",
      "metadata": {
        "colab": {
          "base_uri": "https://localhost:8080/",
          "height": 298
        },
        "id": "sZrLksGmkYdx",
        "outputId": "562a1645-0faa-4a27-9c70-a93534678033"
      },
      "source": [
        "sns.countplot(x='Category',data=df)"
      ],
      "execution_count": null,
      "outputs": [
        {
          "output_type": "execute_result",
          "data": {
            "text/plain": [
              "<AxesSubplot:xlabel='Category', ylabel='count'>"
            ]
          },
          "metadata": {
            "tags": []
          },
          "execution_count": 2
        },
        {
          "output_type": "display_data",
          "data": {
            "image/png": "[encoded data removed]",
            "text/plain": [
              "<Figure size 432x288 with 1 Axes>"
            ]
          },
          "metadata": {
            "tags": [],
            "needs_background": "light"
          }
        }
      ]
    },
    {
      "cell_type": "code",
      "metadata": {
        "colab": {
          "base_uri": "https://localhost:8080/"
        },
        "id": "30cxlv4UuGzb",
        "outputId": "5ed0e42f-224d-426d-8664-d8eab08958e5"
      },
      "source": [
        "df.shape"
      ],
      "execution_count": null,
      "outputs": [
        {
          "output_type": "execute_result",
          "data": {
            "text/plain": [
              "(5969, 3)"
            ]
          },
          "metadata": {
            "tags": []
          },
          "execution_count": 3
        }
      ]
    },
    {
      "cell_type": "markdown",
      "metadata": {
        "id": "A_FChFbuc_wa"
      },
      "source": [
        "## Data Cleaning "
      ]
    },
    {
      "cell_type": "code",
      "metadata": {
        "id": "1XZ9dkU7Qv17"
      },
      "source": [
        "df = df[df['Tweet'] != \"Not Available\"]"
      ],
      "execution_count": null,
      "outputs": []
    },
    {
      "cell_type": "code",
      "metadata": {
        "id": "qbKublr1Qzvf"
      },
      "source": [
        "def clean_tweets(tweet):\n",
        "    \n",
        "    # remove URL\n",
        "    tweet = re.sub(r\"http\\S+\", \"\", tweet)\n",
        "    \n",
        "    # Remove usernames\n",
        "    tweet = re.sub(r\"@[^\\s]+[\\s]?\",'',tweet)\n",
        "    \n",
        "    # remove special characters \n",
        "    tweet = re.sub('[^ a-zA-Z0-9]', '', tweet)\n",
        "    \n",
        "    # remove Numbers\n",
        "    tweet = re.sub('[0-9]', '', tweet)\n",
        "    \n",
        "    return tweet"
      ],
      "execution_count": null,
      "outputs": []
    },
    {
      "cell_type": "code",
      "metadata": {
        "id": "JVrXtKDEQ2Ty"
      },
      "source": [
        "df['Tweet'] = df['Tweet'].apply(clean_tweets)"
      ],
      "execution_count": null,
      "outputs": []
    },
    {
      "cell_type": "code",
      "metadata": {
        "colab": {
          "base_uri": "https://localhost:8080/",
          "height": 419
        },
        "id": "nIKFU3UfVw_R",
        "outputId": "e69702a7-1931-4d35-8c0a-eb6355e5c10c"
      },
      "source": [
        "df"
      ],
      "execution_count": null,
      "outputs": [
        {
          "output_type": "execute_result",
          "data": {
            "text/html": [
              "<div>\n",
              "<style scoped>\n",
              "    .dataframe tbody tr th:only-of-type {\n",
              "        vertical-align: middle;\n",
              "    }\n",
              "\n",
              "    .dataframe tbody tr th {\n",
              "        vertical-align: top;\n",
              "    }\n",
              "\n",
              "    .dataframe thead th {\n",
              "        text-align: right;\n",
              "    }\n",
              "</style>\n",
              "<table border=\"1\" class=\"dataframe\">\n",
              "  <thead>\n",
              "    <tr style=\"text-align: right;\">\n",
              "      <th></th>\n",
              "      <th>Id</th>\n",
              "      <th>Category</th>\n",
              "      <th>Tweet</th>\n",
              "    </tr>\n",
              "  </thead>\n",
              "  <tbody>\n",
              "    <tr>\n",
              "      <th>1</th>\n",
              "      <td>6.359300e+17</td>\n",
              "      <td>neutral</td>\n",
              "      <td>IOS  App Transport Security Mm need to check i...</td>\n",
              "    </tr>\n",
              "    <tr>\n",
              "      <th>2</th>\n",
              "      <td>6.359500e+17</td>\n",
              "      <td>neutral</td>\n",
              "      <td>Mar if you have an iOS device you should downl...</td>\n",
              "    </tr>\n",
              "    <tr>\n",
              "      <th>3</th>\n",
              "      <td>6.360310e+17</td>\n",
              "      <td>negative</td>\n",
              "      <td>my phone does not run on latest IOS which may ...</td>\n",
              "    </tr>\n",
              "    <tr>\n",
              "      <th>4</th>\n",
              "      <td>6.361010e+17</td>\n",
              "      <td>positive</td>\n",
              "      <td>Not sure how to start your publication on iOS ...</td>\n",
              "    </tr>\n",
              "    <tr>\n",
              "      <th>5</th>\n",
              "      <td>6.361760e+17</td>\n",
              "      <td>neutral</td>\n",
              "      <td>Two Dollar Tuesday is here with Forklift  Quic...</td>\n",
              "    </tr>\n",
              "    <tr>\n",
              "      <th>...</th>\n",
              "      <td>...</td>\n",
              "      <td>...</td>\n",
              "      <td>...</td>\n",
              "    </tr>\n",
              "    <tr>\n",
              "      <th>5962</th>\n",
              "      <td>6.384460e+17</td>\n",
              "      <td>positive</td>\n",
              "      <td>Ok ed lets do this Zlatan greizmann and Laport...</td>\n",
              "    </tr>\n",
              "    <tr>\n",
              "      <th>5963</th>\n",
              "      <td>6.385320e+17</td>\n",
              "      <td>neutral</td>\n",
              "      <td>Goal level Zlatan  k by Friday  Posting every ...</td>\n",
              "    </tr>\n",
              "    <tr>\n",
              "      <th>5964</th>\n",
              "      <td>6.390170e+17</td>\n",
              "      <td>neutral</td>\n",
              "      <td>Wouldnt surprise me if we enquiredHe cant be  ...</td>\n",
              "    </tr>\n",
              "    <tr>\n",
              "      <th>5965</th>\n",
              "      <td>6.402770e+17</td>\n",
              "      <td>neutral</td>\n",
              "      <td>Rib injury for Zlatan against Russia is a big ...</td>\n",
              "    </tr>\n",
              "    <tr>\n",
              "      <th>5966</th>\n",
              "      <td>6.402970e+17</td>\n",
              "      <td>neutral</td>\n",
              "      <td>Noooooo I was hoping to see Zlatan being Zlata...</td>\n",
              "    </tr>\n",
              "  </tbody>\n",
              "</table>\n",
              "<p>5421 rows × 3 columns</p>\n",
              "</div>"
            ],
            "text/plain": [
              "                Id  Category  \\\n",
              "1     6.359300e+17   neutral   \n",
              "2     6.359500e+17   neutral   \n",
              "3     6.360310e+17  negative   \n",
              "4     6.361010e+17  positive   \n",
              "5     6.361760e+17   neutral   \n",
              "...            ...       ...   \n",
              "5962  6.384460e+17  positive   \n",
              "5963  6.385320e+17   neutral   \n",
              "5964  6.390170e+17   neutral   \n",
              "5965  6.402770e+17   neutral   \n",
              "5966  6.402970e+17   neutral   \n",
              "\n",
              "                                                  Tweet  \n",
              "1     IOS  App Transport Security Mm need to check i...  \n",
              "2     Mar if you have an iOS device you should downl...  \n",
              "3     my phone does not run on latest IOS which may ...  \n",
              "4     Not sure how to start your publication on iOS ...  \n",
              "5     Two Dollar Tuesday is here with Forklift  Quic...  \n",
              "...                                                 ...  \n",
              "5962  Ok ed lets do this Zlatan greizmann and Laport...  \n",
              "5963  Goal level Zlatan  k by Friday  Posting every ...  \n",
              "5964  Wouldnt surprise me if we enquiredHe cant be  ...  \n",
              "5965  Rib injury for Zlatan against Russia is a big ...  \n",
              "5966  Noooooo I was hoping to see Zlatan being Zlata...  \n",
              "\n",
              "[5421 rows x 3 columns]"
            ]
          },
          "metadata": {
            "tags": []
          },
          "execution_count": 7
        }
      ]
    },
    {
      "cell_type": "markdown",
      "metadata": {
        "id": "O-8QMQdudCru"
      },
      "source": [
        "## Preprocessing text data"
      ]
    },
    {
      "cell_type": "code",
      "metadata": {
        "colab": {
          "base_uri": "https://localhost:8080/"
        },
        "id": "QBQRlzM0Q4wD",
        "outputId": "b7ee9e0d-2f99-4666-fb06-67ee7c9fd9b8"
      },
      "source": [
        "import nltk\n",
        "from nltk.stem import PorterStemmer\n",
        "from nltk.tokenize import sent_tokenize, word_tokenize\n",
        "ps = PorterStemmer()\n",
        "import nltk\n",
        "from nltk.corpus import stopwords\n",
        "nltk.download('stopwords')\n",
        "nltk.download('punkt')\n",
        "nltk.download('wordnet')\n",
        "from nltk.stem import WordNetLemmatizer\n",
        "lemmatizer = WordNetLemmatizer()"
      ],
      "execution_count": null,
      "outputs": [
        {
          "output_type": "stream",
          "text": [
            "[nltk_data] Downloading package stopwords to /Users/ratan/nltk_data...\n",
            "[nltk_data]   Package stopwords is already up-to-date!\n",
            "[nltk_data] Downloading package punkt to /Users/ratan/nltk_data...\n",
            "[nltk_data]   Package punkt is already up-to-date!\n",
            "[nltk_data] Downloading package wordnet to /Users/ratan/nltk_data...\n",
            "[nltk_data]   Package wordnet is already up-to-date!\n"
          ],
          "name": "stderr"
        }
      ]
    },
    {
      "cell_type": "code",
      "metadata": {
        "id": "qFdRRbBYRWlO"
      },
      "source": [
        "def tokenize(text):\n",
        "    return word_tokenize(text)\n",
        "\n",
        "def stword(words):\n",
        "    stword=[]\n",
        "    for w in words:\n",
        "      if not w in stopwords.words('english'):\n",
        "        stword.append(w)\n",
        "    return stword         \n",
        "\n",
        "def stemming(words):\n",
        "    stem_words = []\n",
        "    for w in words:\n",
        "        w = ps.stem(w)\n",
        "        stem_words.append(w)\n",
        "    \n",
        "    return stem_words\n",
        "\n",
        "def word_lemitizer(words):\n",
        "    lemmatized_output = ' '.join([lemmatizer.lemmatize(w) for w in words])\n",
        "    \n",
        "    return lemmatized_output"
      ],
      "execution_count": null,
      "outputs": []
    },
    {
      "cell_type": "code",
      "metadata": {
        "id": "TP6YOLMoSHXw"
      },
      "source": [
        "df['text'] = df['Tweet'].apply(tokenize)"
      ],
      "execution_count": null,
      "outputs": []
    },
    {
      "cell_type": "code",
      "metadata": {
        "id": "z8Fk-_8DSnzj"
      },
      "source": [
        "df['stwordremoved']=df['text'].apply(stword)"
      ],
      "execution_count": null,
      "outputs": []
    },
    {
      "cell_type": "code",
      "metadata": {
        "id": "9GF-FxyYSqEA"
      },
      "source": [
        "df['tokenized'] = df['stwordremoved'].apply(stemming)"
      ],
      "execution_count": null,
      "outputs": []
    },
    {
      "cell_type": "code",
      "metadata": {
        "id": "1adCZj2xStdK"
      },
      "source": [
        "df['cleaned_text']=df['tokenized'].apply(word_lemitizer)"
      ],
      "execution_count": null,
      "outputs": []
    },
    {
      "cell_type": "code",
      "metadata": {
        "colab": {
          "base_uri": "https://localhost:8080/",
          "height": 742
        },
        "id": "vQTgtl4lSvZH",
        "outputId": "41058546-1826-40cd-cc1e-9a6f62f17af1"
      },
      "source": [
        "df"
      ],
      "execution_count": null,
      "outputs": [
        {
          "output_type": "execute_result",
          "data": {
            "text/html": [
              "<div>\n",
              "<style scoped>\n",
              "    .dataframe tbody tr th:only-of-type {\n",
              "        vertical-align: middle;\n",
              "    }\n",
              "\n",
              "    .dataframe tbody tr th {\n",
              "        vertical-align: top;\n",
              "    }\n",
              "\n",
              "    .dataframe thead th {\n",
              "        text-align: right;\n",
              "    }\n",
              "</style>\n",
              "<table border=\"1\" class=\"dataframe\">\n",
              "  <thead>\n",
              "    <tr style=\"text-align: right;\">\n",
              "      <th></th>\n",
              "      <th>Id</th>\n",
              "      <th>Category</th>\n",
              "      <th>Tweet</th>\n",
              "      <th>text</th>\n",
              "      <th>stwordremoved</th>\n",
              "      <th>tokenized</th>\n",
              "      <th>cleaned_text</th>\n",
              "    </tr>\n",
              "  </thead>\n",
              "  <tbody>\n",
              "    <tr>\n",
              "      <th>1</th>\n",
              "      <td>6.359300e+17</td>\n",
              "      <td>neutral</td>\n",
              "      <td>IOS  App Transport Security Mm need to check i...</td>\n",
              "      <td>[IOS, App, Transport, Security, Mm, need, to, ...</td>\n",
              "      <td>[IOS, App, Transport, Security, Mm, need, chec...</td>\n",
              "      <td>[io, app, transport, secur, Mm, need, check, r...</td>\n",
              "      <td>io app transport secur Mm need check rd parti ...</td>\n",
              "    </tr>\n",
              "    <tr>\n",
              "      <th>2</th>\n",
              "      <td>6.359500e+17</td>\n",
              "      <td>neutral</td>\n",
              "      <td>Mar if you have an iOS device you should downl...</td>\n",
              "      <td>[Mar, if, you, have, an, iOS, device, you, sho...</td>\n",
              "      <td>[Mar, iOS, device, download, app]</td>\n",
              "      <td>[mar, io, devic, download, app]</td>\n",
              "      <td>mar io devic download app</td>\n",
              "    </tr>\n",
              "    <tr>\n",
              "      <th>3</th>\n",
              "      <td>6.360310e+17</td>\n",
              "      <td>negative</td>\n",
              "      <td>my phone does not run on latest IOS which may ...</td>\n",
              "      <td>[my, phone, does, not, run, on, latest, IOS, w...</td>\n",
              "      <td>[phone, run, latest, IOS, may, account, proble...</td>\n",
              "      <td>[phone, run, latest, io, may, account, problem...</td>\n",
              "      <td>phone run latest io may account problem day ti...</td>\n",
              "    </tr>\n",
              "    <tr>\n",
              "      <th>4</th>\n",
              "      <td>6.361010e+17</td>\n",
              "      <td>positive</td>\n",
              "      <td>Not sure how to start your publication on iOS ...</td>\n",
              "      <td>[Not, sure, how, to, start, your, publication,...</td>\n",
              "      <td>[Not, sure, start, publication, iOS, Well, liv...</td>\n",
              "      <td>[not, sure, start, public, io, well, live, hel...</td>\n",
              "      <td>not sure start public io well live help ask an...</td>\n",
              "    </tr>\n",
              "    <tr>\n",
              "      <th>5</th>\n",
              "      <td>6.361760e+17</td>\n",
              "      <td>neutral</td>\n",
              "      <td>Two Dollar Tuesday is here with Forklift  Quic...</td>\n",
              "      <td>[Two, Dollar, Tuesday, is, here, with, Forklif...</td>\n",
              "      <td>[Two, Dollar, Tuesday, Forklift, QuickKey, iOS...</td>\n",
              "      <td>[two, dollar, tuesday, forklift, quickkey, io,...</td>\n",
              "      <td>two dollar tuesday forklift quickkey io suit p...</td>\n",
              "    </tr>\n",
              "    <tr>\n",
              "      <th>...</th>\n",
              "      <td>...</td>\n",
              "      <td>...</td>\n",
              "      <td>...</td>\n",
              "      <td>...</td>\n",
              "      <td>...</td>\n",
              "      <td>...</td>\n",
              "      <td>...</td>\n",
              "    </tr>\n",
              "    <tr>\n",
              "      <th>5962</th>\n",
              "      <td>6.384460e+17</td>\n",
              "      <td>positive</td>\n",
              "      <td>Ok ed lets do this Zlatan greizmann and Laport...</td>\n",
              "      <td>[Ok, ed, lets, do, this, Zlatan, greizmann, an...</td>\n",
              "      <td>[Ok, ed, lets, Zlatan, greizmann, Laporte, tom...</td>\n",
              "      <td>[Ok, ed, let, zlatan, greizmann, laport, tomor...</td>\n",
              "      <td>Ok ed let zlatan greizmann laport tomorrow mak...</td>\n",
              "    </tr>\n",
              "    <tr>\n",
              "      <th>5963</th>\n",
              "      <td>6.385320e+17</td>\n",
              "      <td>neutral</td>\n",
              "      <td>Goal level Zlatan  k by Friday  Posting every ...</td>\n",
              "      <td>[Goal, level, Zlatan, k, by, Friday, Posting, ...</td>\n",
              "      <td>[Goal, level, Zlatan, k, Friday, Posting, ever...</td>\n",
              "      <td>[goal, level, zlatan, k, friday, post, everi, ...</td>\n",
              "      <td>goal level zlatan k friday post everi day dsg ...</td>\n",
              "    </tr>\n",
              "    <tr>\n",
              "      <th>5964</th>\n",
              "      <td>6.390170e+17</td>\n",
              "      <td>neutral</td>\n",
              "      <td>Wouldnt surprise me if we enquiredHe cant be  ...</td>\n",
              "      <td>[Wouldnt, surprise, me, if, we, enquiredHe, ca...</td>\n",
              "      <td>[Wouldnt, surprise, enquiredHe, cant, happy, p...</td>\n",
              "      <td>[wouldnt, surpris, enquiredh, cant, happi, pla...</td>\n",
              "      <td>wouldnt surpris enquiredh cant happi play nd f...</td>\n",
              "    </tr>\n",
              "    <tr>\n",
              "      <th>5965</th>\n",
              "      <td>6.402770e+17</td>\n",
              "      <td>neutral</td>\n",
              "      <td>Rib injury for Zlatan against Russia is a big ...</td>\n",
              "      <td>[Rib, injury, for, Zlatan, against, Russia, is...</td>\n",
              "      <td>[Rib, injury, Zlatan, Russia, big, blow, misse...</td>\n",
              "      <td>[rib, injuri, zlatan, russia, big, blow, miss,...</td>\n",
              "      <td>rib injuri zlatan russia big blow miss austria...</td>\n",
              "    </tr>\n",
              "    <tr>\n",
              "      <th>5966</th>\n",
              "      <td>6.402970e+17</td>\n",
              "      <td>neutral</td>\n",
              "      <td>Noooooo I was hoping to see Zlatan being Zlata...</td>\n",
              "      <td>[Noooooo, I, was, hoping, to, see, Zlatan, bei...</td>\n",
              "      <td>[Noooooo, I, hoping, see, Zlatan, Zlatan, Tues...</td>\n",
              "      <td>[noooooo, I, hope, see, zlatan, zlatan, tuesda...</td>\n",
              "      <td>noooooo I hope see zlatan zlatan tuesday Oh we...</td>\n",
              "    </tr>\n",
              "  </tbody>\n",
              "</table>\n",
              "<p>5421 rows × 7 columns</p>\n",
              "</div>"
            ],
            "text/plain": [
              "                Id  Category  \\\n",
              "1     6.359300e+17   neutral   \n",
              "2     6.359500e+17   neutral   \n",
              "3     6.360310e+17  negative   \n",
              "4     6.361010e+17  positive   \n",
              "5     6.361760e+17   neutral   \n",
              "...            ...       ...   \n",
              "5962  6.384460e+17  positive   \n",
              "5963  6.385320e+17   neutral   \n",
              "5964  6.390170e+17   neutral   \n",
              "5965  6.402770e+17   neutral   \n",
              "5966  6.402970e+17   neutral   \n",
              "\n",
              "                                                  Tweet  \\\n",
              "1     IOS  App Transport Security Mm need to check i...   \n",
              "2     Mar if you have an iOS device you should downl...   \n",
              "3     my phone does not run on latest IOS which may ...   \n",
              "4     Not sure how to start your publication on iOS ...   \n",
              "5     Two Dollar Tuesday is here with Forklift  Quic...   \n",
              "...                                                 ...   \n",
              "5962  Ok ed lets do this Zlatan greizmann and Laport...   \n",
              "5963  Goal level Zlatan  k by Friday  Posting every ...   \n",
              "5964  Wouldnt surprise me if we enquiredHe cant be  ...   \n",
              "5965  Rib injury for Zlatan against Russia is a big ...   \n",
              "5966  Noooooo I was hoping to see Zlatan being Zlata...   \n",
              "\n",
              "                                                   text  \\\n",
              "1     [IOS, App, Transport, Security, Mm, need, to, ...   \n",
              "2     [Mar, if, you, have, an, iOS, device, you, sho...   \n",
              "3     [my, phone, does, not, run, on, latest, IOS, w...   \n",
              "4     [Not, sure, how, to, start, your, publication,...   \n",
              "5     [Two, Dollar, Tuesday, is, here, with, Forklif...   \n",
              "...                                                 ...   \n",
              "5962  [Ok, ed, lets, do, this, Zlatan, greizmann, an...   \n",
              "5963  [Goal, level, Zlatan, k, by, Friday, Posting, ...   \n",
              "5964  [Wouldnt, surprise, me, if, we, enquiredHe, ca...   \n",
              "5965  [Rib, injury, for, Zlatan, against, Russia, is...   \n",
              "5966  [Noooooo, I, was, hoping, to, see, Zlatan, bei...   \n",
              "\n",
              "                                          stwordremoved  \\\n",
              "1     [IOS, App, Transport, Security, Mm, need, chec...   \n",
              "2                     [Mar, iOS, device, download, app]   \n",
              "3     [phone, run, latest, IOS, may, account, proble...   \n",
              "4     [Not, sure, start, publication, iOS, Well, liv...   \n",
              "5     [Two, Dollar, Tuesday, Forklift, QuickKey, iOS...   \n",
              "...                                                 ...   \n",
              "5962  [Ok, ed, lets, Zlatan, greizmann, Laporte, tom...   \n",
              "5963  [Goal, level, Zlatan, k, Friday, Posting, ever...   \n",
              "5964  [Wouldnt, surprise, enquiredHe, cant, happy, p...   \n",
              "5965  [Rib, injury, Zlatan, Russia, big, blow, misse...   \n",
              "5966  [Noooooo, I, hoping, see, Zlatan, Zlatan, Tues...   \n",
              "\n",
              "                                              tokenized  \\\n",
              "1     [io, app, transport, secur, Mm, need, check, r...   \n",
              "2                       [mar, io, devic, download, app]   \n",
              "3     [phone, run, latest, io, may, account, problem...   \n",
              "4     [not, sure, start, public, io, well, live, hel...   \n",
              "5     [two, dollar, tuesday, forklift, quickkey, io,...   \n",
              "...                                                 ...   \n",
              "5962  [Ok, ed, let, zlatan, greizmann, laport, tomor...   \n",
              "5963  [goal, level, zlatan, k, friday, post, everi, ...   \n",
              "5964  [wouldnt, surpris, enquiredh, cant, happi, pla...   \n",
              "5965  [rib, injuri, zlatan, russia, big, blow, miss,...   \n",
              "5966  [noooooo, I, hope, see, zlatan, zlatan, tuesda...   \n",
              "\n",
              "                                           cleaned_text  \n",
              "1     io app transport secur Mm need check rd parti ...  \n",
              "2                             mar io devic download app  \n",
              "3     phone run latest io may account problem day ti...  \n",
              "4     not sure start public io well live help ask an...  \n",
              "5     two dollar tuesday forklift quickkey io suit p...  \n",
              "...                                                 ...  \n",
              "5962  Ok ed let zlatan greizmann laport tomorrow mak...  \n",
              "5963  goal level zlatan k friday post everi day dsg ...  \n",
              "5964  wouldnt surpris enquiredh cant happi play nd f...  \n",
              "5965  rib injuri zlatan russia big blow miss austria...  \n",
              "5966  noooooo I hope see zlatan zlatan tuesday Oh we...  \n",
              "\n",
              "[5421 rows x 7 columns]"
            ]
          },
          "metadata": {
            "tags": []
          },
          "execution_count": 14
        }
      ]
    },
    {
      "cell_type": "markdown",
      "metadata": {
        "id": "MWZcwQYFdNEB"
      },
      "source": [
        "## Feature Extraction using term frequencies and inverse document frequencies Vectorizer"
      ]
    },
    {
      "cell_type": "code",
      "metadata": {
        "id": "mdRIZHAHgEh6"
      },
      "source": [
        "from sklearn.feature_extraction.text import CountVectorizer\n",
        "vect = CountVectorizer()\n",
        "X = vect.fit_transform(df['cleaned_text'])"
      ],
      "execution_count": null,
      "outputs": []
    },
    {
      "cell_type": "code",
      "metadata": {
        "id": "uoORdKd2SxCP"
      },
      "source": [
        "from sklearn.feature_extraction.text import TfidfTransformer\n",
        "tfidf = TfidfTransformer()\n",
        "X = tfidf.fit_transform(X)\n",
        "y=df['Category']"
      ],
      "execution_count": null,
      "outputs": []
    },
    {
      "cell_type": "code",
      "metadata": {
        "colab": {
          "base_uri": "https://localhost:8080/"
        },
        "id": "rr8S974DbwUS",
        "outputId": "610a05ce-e13b-4d3c-aeaa-e74574012a24"
      },
      "source": [
        "y"
      ],
      "execution_count": null,
      "outputs": [
        {
          "output_type": "execute_result",
          "data": {
            "text/plain": [
              "1        neutral\n",
              "2        neutral\n",
              "3       negative\n",
              "4       positive\n",
              "5        neutral\n",
              "          ...   \n",
              "5962    positive\n",
              "5963     neutral\n",
              "5964     neutral\n",
              "5965     neutral\n",
              "5966     neutral\n",
              "Name: Category, Length: 5421, dtype: object"
            ]
          },
          "metadata": {
            "tags": []
          },
          "execution_count": 17
        }
      ]
    },
    {
      "cell_type": "markdown",
      "metadata": {
        "id": "G40kOpWLd1Dx"
      },
      "source": [
        "## Classification, model evaluation and confusion matrix"
      ]
    },
    {
      "cell_type": "code",
      "metadata": {
        "id": "Le4q0ID4V5sK"
      },
      "source": [
        "from sklearn.model_selection import train_test_split"
      ],
      "execution_count": null,
      "outputs": []
    },
    {
      "cell_type": "code",
      "metadata": {
        "id": "GrXy54H7V8sI"
      },
      "source": [
        "X_train,X_test,y_train,y_test= train_test_split(X,y,random_state=1,test_size=0.5,shuffle=False)"
      ],
      "execution_count": null,
      "outputs": []
    },
    {
      "cell_type": "code",
      "metadata": {
        "id": "NFcpRq2daNyW"
      },
      "source": [
        "X_train=X_train.toarray()"
      ],
      "execution_count": null,
      "outputs": []
    },
    {
      "cell_type": "code",
      "metadata": {
        "id": "V5pOaGx8dLhs"
      },
      "source": [
        "X_test=X_test.toarray()"
      ],
      "execution_count": null,
      "outputs": []
    },
    {
      "cell_type": "code",
      "metadata": {
        "colab": {
          "base_uri": "https://localhost:8080/"
        },
        "id": "wVNKnCdzjrmu",
        "outputId": "1a946833-b153-4f35-de5a-6867c36822bc"
      },
      "source": [
        "y_train"
      ],
      "execution_count": null,
      "outputs": [
        {
          "output_type": "execute_result",
          "data": {
            "text/plain": [
              "1        neutral\n",
              "2        neutral\n",
              "3       negative\n",
              "4       positive\n",
              "5        neutral\n",
              "          ...   \n",
              "2971     neutral\n",
              "2972    positive\n",
              "2973    positive\n",
              "2974    positive\n",
              "2975    positive\n",
              "Name: Category, Length: 2710, dtype: object"
            ]
          },
          "metadata": {
            "tags": []
          },
          "execution_count": 22
        }
      ]
    },
    {
      "cell_type": "code",
      "metadata": {
        "id": "sfqXRDCUUnkh"
      },
      "source": [
        "from sklearn.metrics import f1_score, precision_score, recall_score, accuracy_score,confusion_matrix"
      ],
      "execution_count": null,
      "outputs": []
    },
    {
      "cell_type": "code",
      "metadata": {
        "id": "k7SObybaaATv"
      },
      "source": [
        "from sklearn.naive_bayes import GaussianNB\n",
        "classifier=GaussianNB()\n",
        "model = classifier.fit(X_train, y_train)\n",
        "predictions = model.predict(X_test)\n",
        "list_of_labels = sorted(list(set(y_train)))"
      ],
      "execution_count": null,
      "outputs": []
    },
    {
      "cell_type": "code",
      "metadata": {
        "id": "TnE8CgaUci1T"
      },
      "source": [
        "precision = precision_score(y_test, predictions, average=None, pos_label=None, labels=list_of_labels)\n",
        "recall = recall_score(y_test, predictions, average=None, pos_label=None, labels=list_of_labels)\n",
        "accuracy = accuracy_score(y_test, predictions)\n",
        "f1 = f1_score(y_test, predictions, average=None, pos_label=None, labels=list_of_labels)\n",
        "cm=confusion_matrix(predictions,y_test)"
      ],
      "execution_count": null,
      "outputs": []
    },
    {
      "cell_type": "code",
      "metadata": {
        "colab": {
          "base_uri": "https://localhost:8080/"
        },
        "id": "RzCEe1cWdTRM",
        "outputId": "58c58168-980d-46c9-fc1c-e276e2a42438"
      },
      "source": [
        "accuracy"
      ],
      "execution_count": null,
      "outputs": [
        {
          "output_type": "execute_result",
          "data": {
            "text/plain": [
              "0.4116562154186647"
            ]
          },
          "metadata": {
            "tags": []
          },
          "execution_count": 26
        }
      ]
    },
    {
      "cell_type": "code",
      "metadata": {
        "colab": {
          "base_uri": "https://localhost:8080/"
        },
        "id": "0QWBZHUCdUUj",
        "outputId": "d2fb590f-a8dd-4a6a-e0b7-757573fa83ac"
      },
      "source": [
        "f1"
      ],
      "execution_count": null,
      "outputs": [
        {
          "output_type": "execute_result",
          "data": {
            "text/plain": [
              "array([0.22757112, 0.40300611, 0.4901219 ])"
            ]
          },
          "metadata": {
            "tags": []
          },
          "execution_count": 27
        }
      ]
    },
    {
      "cell_type": "code",
      "metadata": {
        "colab": {
          "base_uri": "https://localhost:8080/"
        },
        "id": "VkOnuaryeiak",
        "outputId": "6f9c908f-fda5-48f5-ff84-406417ef961d"
      },
      "source": [
        "cm"
      ],
      "execution_count": null,
      "outputs": [
        {
          "output_type": "execute_result",
          "data": {
            "text/plain": [
              "array([[104, 159, 150],\n",
              "       [223, 429, 512],\n",
              "       [174, 377, 583]])"
            ]
          },
          "metadata": {
            "tags": []
          },
          "execution_count": 28
        }
      ]
    },
    {
      "cell_type": "code",
      "metadata": {
        "id": "ARf5SUXm0rdT"
      },
      "source": [
        "from sklearn.ensemble import RandomForestClassifier\n",
        "classifier=RandomForestClassifier()\n",
        "model = classifier.fit(X_train, y_train)\n",
        "predictions = model.predict(X_test)\n",
        "list_of_labels = sorted(list(set(y_train)))"
      ],
      "execution_count": null,
      "outputs": []
    },
    {
      "cell_type": "code",
      "metadata": {
        "id": "44C8gkbq1rlQ"
      },
      "source": [
        "precision = precision_score(y_test, predictions, average=None, pos_label=None, labels=list_of_labels)\n",
        "recall = recall_score(y_test, predictions, average=None, pos_label=None, labels=list_of_labels)\n",
        "accuracy = accuracy_score(y_test, predictions)\n",
        "f1 = f1_score(y_test, predictions, average=None, pos_label=None, labels=list_of_labels)\n",
        "cm=confusion_matrix(predictions,y_test)"
      ],
      "execution_count": null,
      "outputs": []
    },
    {
      "cell_type": "code",
      "metadata": {
        "colab": {
          "base_uri": "https://localhost:8080/"
        },
        "id": "0j_04Phj2BV9",
        "outputId": "7f3c68e3-f227-4094-ce36-594da05fdc9a"
      },
      "source": [
        "f1"
      ],
      "execution_count": null,
      "outputs": [
        {
          "output_type": "execute_result",
          "data": {
            "text/plain": [
              "array([0.00792079, 0.43734145, 0.63136456])"
            ]
          },
          "metadata": {
            "tags": []
          },
          "execution_count": 31
        }
      ]
    },
    {
      "cell_type": "code",
      "metadata": {
        "colab": {
          "base_uri": "https://localhost:8080/"
        },
        "id": "lepJobzH2CAa",
        "outputId": "28a19386-f063-4793-8f96-fc4f7abf40c1"
      },
      "source": [
        "accuracy"
      ],
      "execution_count": null,
      "outputs": [
        {
          "output_type": "execute_result",
          "data": {
            "text/plain": [
              "0.5027665068240502"
            ]
          },
          "metadata": {
            "tags": []
          },
          "execution_count": 32
        }
      ]
    },
    {
      "cell_type": "code",
      "metadata": {
        "colab": {
          "base_uri": "https://localhost:8080/"
        },
        "id": "X1FdHtaY2gAR",
        "outputId": "d1bd1a58-ad68-41ab-b18c-6549a8ff0167"
      },
      "source": [
        "cm"
      ],
      "execution_count": null,
      "outputs": [
        {
          "output_type": "execute_result",
          "data": {
            "text/plain": [
              "array([[  2,   0,   2],\n",
              "       [262, 431, 313],\n",
              "       [237, 534, 930]])"
            ]
          },
          "metadata": {
            "tags": []
          },
          "execution_count": 33
        }
      ]
    },
    {
      "cell_type": "code",
      "metadata": {
        "id": "RGxHkFFU2E51"
      },
      "source": [
        "from sklearn.neighbors import KNeighborsClassifier\n",
        "classifier=KNeighborsClassifier()\n",
        "model = classifier.fit(X_train, y_train)\n",
        "predictions = model.predict(X_test)\n",
        "list_of_labels = sorted(list(set(y_train)))"
      ],
      "execution_count": null,
      "outputs": []
    },
    {
      "cell_type": "code",
      "metadata": {
        "id": "U6htb1RC2qAJ"
      },
      "source": [
        "precision = precision_score(y_test, predictions, average=None, pos_label=None, labels=list_of_labels)\n",
        "recall = recall_score(y_test, predictions, average=None, pos_label=None, labels=list_of_labels)\n",
        "accuracy = accuracy_score(y_test, predictions)\n",
        "f1 = f1_score(y_test, predictions, average=None, pos_label=None, labels=list_of_labels)\n",
        "cm=confusion_matrix(predictions,y_test)"
      ],
      "execution_count": null,
      "outputs": []
    },
    {
      "cell_type": "code",
      "metadata": {
        "colab": {
          "base_uri": "https://localhost:8080/"
        },
        "id": "EEWsjdfi2snp",
        "outputId": "a7d38fcf-b1d8-4082-b90e-f1f86fb6b203"
      },
      "source": [
        "f1"
      ],
      "execution_count": null,
      "outputs": [
        {
          "output_type": "execute_result",
          "data": {
            "text/plain": [
              "array([0.24611399, 0.40489546, 0.59129788])"
            ]
          },
          "metadata": {
            "tags": []
          },
          "execution_count": 36
        }
      ]
    },
    {
      "cell_type": "code",
      "metadata": {
        "colab": {
          "base_uri": "https://localhost:8080/"
        },
        "id": "89v9m3rA2tBV",
        "outputId": "b72d120d-59d5-49ca-bf34-4541ae4986fd"
      },
      "source": [
        "accuracy"
      ],
      "execution_count": null,
      "outputs": [
        {
          "output_type": "execute_result",
          "data": {
            "text/plain": [
              "0.4747325710070085"
            ]
          },
          "metadata": {
            "tags": []
          },
          "execution_count": 37
        }
      ]
    },
    {
      "cell_type": "code",
      "metadata": {
        "colab": {
          "base_uri": "https://localhost:8080/"
        },
        "id": "3EoIcmIfUZNx",
        "outputId": "13838965-9f06-438c-cfd1-6f78daef462c"
      },
      "source": [
        "cm"
      ],
      "execution_count": null,
      "outputs": [
        {
          "output_type": "execute_result",
          "data": {
            "text/plain": [
              "array([[ 95, 105,  71],\n",
              "       [220, 397, 379],\n",
              "       [186, 463, 795]])"
            ]
          },
          "metadata": {
            "tags": []
          },
          "execution_count": 38
        }
      ]
    },
    {
      "cell_type": "code",
      "metadata": {
        "id": "NSvFmhkT2wFx"
      },
      "source": [
        "from sklearn.tree import DecisionTreeClassifier\n",
        "classifier=DecisionTreeClassifier()\n",
        "model = classifier.fit(X_train, y_train)\n",
        "predictions = model.predict(X_test)\n",
        "list_of_labels = sorted(list(set(y_train)))"
      ],
      "execution_count": null,
      "outputs": []
    },
    {
      "cell_type": "code",
      "metadata": {
        "id": "yv7vdkmK3Qjp"
      },
      "source": [
        "precision = precision_score(y_test, predictions, average=None, pos_label=None, labels=list_of_labels)\n",
        "recall = recall_score(y_test, predictions, average=None, pos_label=None, labels=list_of_labels)\n",
        "accuracy = accuracy_score(y_test, predictions)\n",
        "f1 = f1_score(y_test, predictions, average=None, pos_label=None, labels=list_of_labels)\n",
        "cm=confusion_matrix(predictions,y_test)"
      ],
      "execution_count": null,
      "outputs": []
    },
    {
      "cell_type": "code",
      "metadata": {
        "colab": {
          "base_uri": "https://localhost:8080/"
        },
        "id": "80laAeC33Sh5",
        "outputId": "dc47f369-8edf-43b6-c333-79f865f2c3fe"
      },
      "source": [
        "f1"
      ],
      "execution_count": null,
      "outputs": [
        {
          "output_type": "execute_result",
          "data": {
            "text/plain": [
              "array([0.13017751, 0.4440281 , 0.55993872])"
            ]
          },
          "metadata": {
            "tags": []
          },
          "execution_count": 41
        }
      ]
    },
    {
      "cell_type": "code",
      "metadata": {
        "colab": {
          "base_uri": "https://localhost:8080/"
        },
        "id": "C2XaW3EG3TW5",
        "outputId": "b460378e-14d3-46ea-c5f5-0b59ae42003d"
      },
      "source": [
        "accuracy"
      ],
      "execution_count": null,
      "outputs": [
        {
          "output_type": "execute_result",
          "data": {
            "text/plain": [
              "0.46071560309848764"
            ]
          },
          "metadata": {
            "tags": []
          },
          "execution_count": 42
        }
      ]
    },
    {
      "cell_type": "code",
      "metadata": {
        "colab": {
          "base_uri": "https://localhost:8080/"
        },
        "id": "JgSBw5qA3UWF",
        "outputId": "953d4399-d995-46eb-def7-44f7a19a3592"
      },
      "source": [
        "cm"
      ],
      "execution_count": null,
      "outputs": [
        {
          "output_type": "execute_result",
          "data": {
            "text/plain": [
              "array([[ 44,  57,  74],\n",
              "       [256, 474, 440],\n",
              "       [201, 434, 731]])"
            ]
          },
          "metadata": {
            "tags": []
          },
          "execution_count": 43
        }
      ]
    },
    {
      "cell_type": "code",
      "metadata": {
        "id": "oK1BnNEqZVug"
      },
      "source": [
        ""
      ],
      "execution_count": null,
      "outputs": []
    }
  ]
}